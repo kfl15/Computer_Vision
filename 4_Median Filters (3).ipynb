{
 "cells": [
  {
   "cell_type": "raw",
   "id": "fde5df67",
   "metadata": {},
   "source": [
    "# Median Filters\n",
    "Not all filters perform the same weighted sum operation. Median filters can also blur images by picking the median value instead of the average."
   ]
  },
  {
   "cell_type": "raw",
   "id": "021dca3f",
   "metadata": {},
   "source": [
    "# Let's work with a grainy picture\n",
    "\n",
    "import numpy as np\n",
    "import matplotlib.pyplot as plt\n",
    "%config InlineBackend.figure_formats = 'retina'\n",
    "from matplotlib import rcParams\n",
    "from EC_CV import *\n",
    "import cv2\n",
    "\n",
    "rcParams['figure.figsize'] = (24, 10)"
   ]
  },
  {
   "cell_type": "raw",
   "id": "c1934978",
   "metadata": {},
   "source": [
    "img = plt.imread('field.jpg')\n",
    "plt.axis(\"off\")\n",
    "plt.imshow(img)"
   ]
  },
  {
   "cell_type": "raw",
   "id": "e03fc714",
   "metadata": {},
   "source": [
    "# OpenCV's functions work with color and grayscale images\n",
    "\n",
    "median = cv2.medianBlur(img,5)\n",
    "plt.axis(\"off\")\n",
    "plt.imshow(median)"
   ]
  },
  {
   "cell_type": "raw",
   "id": "4b08cd3b",
   "metadata": {},
   "source": [
    "median1 = cv2.medianBlur(img, 11)\n",
    "plt.axis(\"off\")\n",
    "plt.imshow(median1)\n",
    "\n",
    "# median1 = cv2.medianBlur(img,5)\n",
    "# plt.axis(\"off\")\n",
    "# plt.imshow(median1)"
   ]
  },
  {
   "cell_type": "raw",
   "id": "7e0b3a5a",
   "metadata": {},
   "source": [
    "# Let's see an average blur side by side with a median blur\n",
    "\n",
    "rcParams['figure.figsize'] = (20,8)\n",
    "\n",
    "kernel = np.ones((5, 5), np.float32) / 25\n",
    "average = cv2.filter2D(src=img, ddepth=-1, kernel=kernel)\n",
    "\n",
    "# display images\n",
    "fig, ax = plt.subplots(1,3)\n",
    "ax[0].imshow(average)\n",
    "ax[1].imshow(median)\n",
    "ax[2].imshow(median1)"
   ]
  },
  {
   "cell_type": "raw",
   "id": "7f8e596d",
   "metadata": {},
   "source": [
    "# Let's zoom in to the leftmost section\n",
    "\n",
    "rcParams['figure.figsize'] = (20, 20)\n",
    "\n",
    "# display images\n",
    "fig, ax = plt.subplots(1,3)\n",
    "ax[0].imshow(average[:,:400])\n",
    "ax[1].imshow(median[:,:400])\n",
    "ax[2].imshow(median1[:,:400])"
   ]
  },
  {
   "cell_type": "raw",
   "id": "b591f0dd",
   "metadata": {},
   "source": [
    "# Now a middle section\n",
    "\n",
    "# fig, ax = plt.subplots(1,2)\n",
    "# ax[0].imshow(average[:,400:800])\n",
    "# ax[1].imshow(median[:,400:800])\n"
   ]
  },
  {
   "cell_type": "raw",
   "id": "08d177bb",
   "metadata": {},
   "source": [
    "# Lastly, the rightmost section\n",
    "\n",
    "# fig, ax = plt.subplots(1,2)\n",
    "# ax[0].imshow(average[:,800:1200])\n",
    "# ax[1].imshow(median[:,800:1200])"
   ]
  },
  {
   "cell_type": "raw",
   "id": "2cdb6777",
   "metadata": {},
   "source": [
    "# Now let's see it for a different picture\n",
    "\n",
    "rcParams['figure.figsize'] = (24, 10)\n",
    "\n",
    "img = plt.imread('workers.jpg')\n",
    "plt.axis(\"off\")\n",
    "plt.imshow(img)\n"
   ]
  },
  {
   "cell_type": "raw",
   "id": "8c769c13",
   "metadata": {},
   "source": [
    "# OpenCV's functions work with color and grayscale images\n",
    "\n",
    "median = cv2.medianBlur(img,3)\n",
    "plt.axis(\"off\")\n",
    "plt.imshow(median)"
   ]
  },
  {
   "cell_type": "raw",
   "id": "54cdfee9",
   "metadata": {},
   "source": [
    "# Let's see an average blur side by side with a median blur\n",
    "\n",
    "rcParams['figure.figsize'] = (20,8)\n",
    "\n",
    "kernel = np.ones((3, 3), np.float32) / 9\n",
    "average = cv2.filter2D(src=img, ddepth=-1, kernel=kernel)\n",
    "\n",
    "# display images\n",
    "fig, ax = plt.subplots(1,2)\n",
    "ax[0].imshow(average)\n",
    "ax[1].imshow(median)"
   ]
  },
  {
   "cell_type": "raw",
   "id": "3d1b2e7d",
   "metadata": {},
   "source": [
    "# Let's zoom in to the leftmost section\n",
    "\n",
    "rcParams['figure.figsize'] = (20, 20)\n",
    "\n",
    "# display images\n",
    "fig, ax = plt.subplots(1,2)\n",
    "ax[0].imshow(average[:,:400])\n",
    "ax[1].imshow(median[:,:400])"
   ]
  },
  {
   "cell_type": "raw",
   "id": "de32e47b",
   "metadata": {},
   "source": [
    "# # Now a middle section\n",
    "\n",
    "# fig, ax = plt.subplots(1,2)\n",
    "# ax[0].imshow(average[:,400:800])\n",
    "# ax[1].imshow(median[:,400:800])"
   ]
  },
  {
   "cell_type": "raw",
   "id": "472ee5d7",
   "metadata": {},
   "source": [
    "# # Lastly, the rightmost section\n",
    "\n",
    "# fig, ax = plt.subplots(1,2)\n",
    "# ax[0].imshow(average[:,700:1100])\n",
    "# ax[1].imshow(median[:,700:1100])"
   ]
  },
  {
   "cell_type": "raw",
   "id": "4e74c110",
   "metadata": {},
   "source": [
    "# Now you try it with this picture of a face.\n",
    "# Experiment with several kernel sizes.\n",
    "\n",
    "rcParams['figure.figsize'] = (24, 10)\n",
    "\n",
    "# img = plt.imread('face.jpg')\n",
    "# plt.axis(\"off\")\n",
    "# plt.imshow(img)"
   ]
  },
  {
   "cell_type": "raw",
   "id": "48f69c5c",
   "metadata": {},
   "source": [
    "median = cv2.medianBlur(img,3)\n",
    "median1 = cv2.medianBlur(img,5)\n",
    "# plt.axis(\"off\")\n",
    "# plt.imshow(median)\n",
    "\n",
    "fig, ax = plt.subplots(3,1)\n",
    "ax[0].imshow(img)\n",
    "ax[1].imshow(median)\n",
    "ax[2].imshow(median1)"
   ]
  },
  {
   "cell_type": "raw",
   "id": "05d56394",
   "metadata": {},
   "source": []
  }
 ],
 "metadata": {
  "kernelspec": {
   "display_name": "Python 3 (ipykernel)",
   "language": "python",
   "name": "python3"
  },
  "language_info": {
   "codemirror_mode": {
    "name": "ipython",
    "version": 3
   },
   "file_extension": ".py",
   "mimetype": "text/x-python",
   "name": "python",
   "nbconvert_exporter": "python",
   "pygments_lexer": "ipython3",
   "version": "3.7.16"
  }
 },
 "nbformat": 4,
 "nbformat_minor": 5
}
